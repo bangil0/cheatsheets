{
 "cells": [
  {
   "cell_type": "code",
   "execution_count": 20,
   "metadata": {},
   "outputs": [],
   "source": [
    "import meetup.api\n",
    "client = meetup.api.Client('621d3033257f68175233f572135e2e')"
   ]
  },
  {
   "cell_type": "markdown",
   "metadata": {},
   "source": [
    "### Get dict keys for this group "
   ]
  },
  {
   "cell_type": "code",
   "execution_count": 30,
   "metadata": {},
   "outputs": [
    {
     "name": "stdout",
     "output_type": "stream",
     "text": [
      "29/30 (10 seconds remaining)\n"
     ]
    },
    {
     "data": {
      "text/plain": [
       "meetup.api.MeetupObject"
      ]
     },
     "execution_count": 30,
     "metadata": {},
     "output_type": "execute_result"
    }
   ],
   "source": [
    "group_info = client.GetGroup({'urlname': 'PyData-SG'})\n",
    "\n",
    "type(group_info)\n",
    "\n",
    "# group_info.__dict__.keys()"
   ]
  },
  {
   "cell_type": "markdown",
   "metadata": {},
   "source": [
    "### Print all info for this group"
   ]
  },
  {
   "cell_type": "code",
   "execution_count": 24,
   "metadata": {},
   "outputs": [
    {
     "data": {
      "text/plain": [
       "{'category': {'id': 34,\n",
       "  'name': 'Tech',\n",
       "  'shortname': 'tech',\n",
       "  'sort_name': 'Tech'},\n",
       " 'city': 'Singapore',\n",
       " 'country': 'SG',\n",
       " 'created': 1426663396000,\n",
       " 'description': '<p><img src=\"http://photos3.meetupstatic.com/photos/event/8/1/7/a/600_445653146.jpeg\"></p>\\n<p><span>PyData Singapore is a group for users and developers of data analysis tools to share ideas and learn from each other. We gather to discuss how best to apply Python tools, as well as those using R and Julia, to meet the evolving challenges in data management, processing, analytics, and visualization.&nbsp;PyData Singapore is supported by&nbsp;<a href=\"http://l.facebook.com/l.php?u=http%3A%2F%2FNumFOCUS.org%2F&amp;h=YAQFfoIwIAQH1bda78MaPBC_yIXfTadR53v2llwHKsunTNQ&amp;enc=AZOhTycewbtMkkdhbSEWnq30V4jvK7PgtzcaQRCx_U07RwOJ7y4C600cY11KTjqUSqDD-JG8lJ3x1RCznNrmI6QDOalbN5GArjy9qCECZyFcGrCDf99OeE7D-UHZYCe41-CUmeQBaOcborWBKSsMau-AgmwQnMjYZcgrxt8PupLyWXo-qsyzsUaIvNxPqLN_GDQ&amp;s=1\">NumFOCUS.org</a>, a 501(c)3 non-profit in the United States.</span></p>\\n<p>The PyData <a href=\"http://pydata.org/about/code_of_conduct/\">Code of Conduct</a> governs this meetup. To discuss any issues or concerns relating to the code of conduct or the behavior of anyone at a PyData meetup, please contact the co-organizer: Eugene Teo (eugeneteo[0x40]gmailcom).</p>\\n<p>Github:&nbsp;<a href=\"https://github.com/pydatasg\">https://github.com/pydatasg</a>&nbsp; <br>Twitter:&nbsp;<a href=\"https://twitter.com/pydatasg\">https://twitter.com/pydatasg</a>&nbsp; <br>Facebook:&nbsp;<a href=\"https://www.facebook.com/groups/pydatasg/\">https://www.facebook.com/groups/pydatasg/</a> <br></p>\\n<p><img src=\"http://photos2.meetupstatic.com/photos/event/8/2/3/5/600_445653333.jpeg\"></p>\\n<p><span>Promoting accessible and reproducible computing in science &amp; technology</span></p>',\n",
       " 'group_photo': {'base_url': 'https://secure.meetupstatic.com',\n",
       "  'highres_link': 'https://secure.meetupstatic.com/photos/event/5/b/1/7/highres_450683319.jpeg',\n",
       "  'id': 450683319,\n",
       "  'photo_link': 'https://secure.meetupstatic.com/photos/event/5/b/1/7/600_450683319.jpeg',\n",
       "  'thumb_link': 'https://secure.meetupstatic.com/photos/event/5/b/1/7/thumb_450683319.jpeg',\n",
       "  'type': 'event'},\n",
       " 'id': 18509469,\n",
       " 'join_mode': 'open',\n",
       " 'key_photo': {'base_url': 'https://secure.meetupstatic.com',\n",
       "  'highres_link': 'https://secure.meetupstatic.com/photos/event/9/8/7/2/highres_444279026.jpeg',\n",
       "  'id': 444279026,\n",
       "  'photo_link': 'https://secure.meetupstatic.com/photos/event/9/8/7/2/600_444279026.jpeg',\n",
       "  'thumb_link': 'https://secure.meetupstatic.com/photos/event/9/8/7/2/thumb_444279026.jpeg',\n",
       "  'type': 'event'},\n",
       " 'lat': 1.3,\n",
       " 'link': 'https://www.meetup.com/PyData-SG/',\n",
       " 'localized_country_name': 'Singapore',\n",
       " 'localized_location': 'Singapore, Singapore',\n",
       " 'lon': 103.85,\n",
       " 'members': 3586,\n",
       " 'meta_category': {'category_ids': [34],\n",
       "  'id': 292,\n",
       "  'name': 'Tech',\n",
       "  'photo': {'base_url': 'https://secure.meetupstatic.com',\n",
       "   'highres_link': 'https://secure.meetupstatic.com/photos/event/2/e/a/d/highres_450131949.jpeg',\n",
       "   'id': 450131949,\n",
       "   'photo_link': 'https://secure.meetupstatic.com/photos/event/2/e/a/d/600_450131949.jpeg',\n",
       "   'thumb_link': 'https://secure.meetupstatic.com/photos/event/2/e/a/d/thumb_450131949.jpeg',\n",
       "   'type': 'event'},\n",
       "  'shortname': 'tech',\n",
       "  'sort_name': 'Tech'},\n",
       " 'name': 'PyData Singapore',\n",
       " 'next_event': {'id': '235797199',\n",
       "  'name': 'PyData Meetup - January 2018',\n",
       "  'time': 1515494700000,\n",
       "  'utc_offset': 28800000,\n",
       "  'yes_rsvp_count': 2},\n",
       " 'organizer': {'bio': 'Chief Data Officer / Chief Data Scientist.  Interests include online learning systems, high-frequency/low-latency data processing systems, recommender systems, distributed systems, and functional programming.',\n",
       "  'id': 46433942,\n",
       "  'name': 'Adam Drake',\n",
       "  'photo': {'base_url': 'https://secure.meetupstatic.com',\n",
       "   'highres_link': 'https://secure.meetupstatic.com/photos/member/d/0/e/a/highres_52373482.jpeg',\n",
       "   'id': 52373482,\n",
       "   'photo_link': 'https://secure.meetupstatic.com/photos/member/d/0/e/a/member_52373482.jpeg',\n",
       "   'thumb_link': 'https://secure.meetupstatic.com/photos/member/d/0/e/a/thumb_52373482.jpeg',\n",
       "   'type': 'member'}},\n",
       " 'pro_network': {'name': 'PyData',\n",
       "  'network_url': 'https://www.meetup.com/pro/pydata/',\n",
       "  'number_of_groups': 78,\n",
       "  'urlname': 'pydata'},\n",
       " 'state': '',\n",
       " 'status': 'active',\n",
       " 'timezone': 'Asia/Singapore',\n",
       " 'urlname': 'PyData-SG',\n",
       " 'visibility': 'public',\n",
       " 'who': 'Data Pythonistas'}"
      ]
     },
     "execution_count": 24,
     "metadata": {},
     "output_type": "execute_result"
    }
   ],
   "source": [
    "group_info.__dict__"
   ]
  },
  {
   "cell_type": "code",
   "execution_count": null,
   "metadata": {
    "collapsed": true
   },
   "outputs": [],
   "source": []
  }
 ],
 "metadata": {
  "kernelspec": {
   "display_name": "Python 3",
   "language": "python",
   "name": "python3"
  },
  "language_info": {
   "codemirror_mode": {
    "name": "ipython",
    "version": 3
   },
   "file_extension": ".py",
   "mimetype": "text/x-python",
   "name": "python",
   "nbconvert_exporter": "python",
   "pygments_lexer": "ipython3",
   "version": "3.6.2"
  }
 },
 "nbformat": 4,
 "nbformat_minor": 2
}
