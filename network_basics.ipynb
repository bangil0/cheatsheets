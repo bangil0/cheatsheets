{
 "cells": [
  {
   "cell_type": "markdown",
   "metadata": {},
   "source": [
    "### BASICS OF NETWORKX"
   ]
  },
  {
   "cell_type": "code",
   "execution_count": 3,
   "metadata": {
    "collapsed": false
   },
   "outputs": [],
   "source": [
    "import psycopg2\n",
    "import pandas as pd\n",
    "import networkx as nx\n",
    "import matplotlib.pyplot as plt\n",
    "import seaborn as sns\n",
    "%matplotlib inline\n",
    "\n",
    "conn = psycopg2.connect(database=\"postgres\", user=\"postgres\", password=\"***\", host=\"127.0.0.1\", port=\"5432\")"
   ]
  },
  {
   "cell_type": "code",
   "execution_count": 5,
   "metadata": {
    "collapsed": false
   },
   "outputs": [
    {
     "data": {
      "text/plain": [
       "(10, 3)"
      ]
     },
     "execution_count": 5,
     "metadata": {},
     "output_type": "execute_result"
    }
   ],
   "source": [
    "query = \"\"\"SELECT fromnode, tonode, distance from edges\"\"\"\n",
    "df = pd.read_sql_query(query, conn)\n",
    "df.shape"
   ]
  },
  {
   "cell_type": "code",
   "execution_count": 11,
   "metadata": {
    "collapsed": false
   },
   "outputs": [],
   "source": [
    "# from dataframe to graph\n",
    "# import as undirected graph\n",
    "g=nx.from_pandas_dataframe(df, 'fromnode', 'tonode', 'distance')"
   ]
  },
  {
   "cell_type": "code",
   "execution_count": 12,
   "metadata": {
    "collapsed": false
   },
   "outputs": [
    {
     "data": {
      "text/html": [
       "<div>\n",
       "<table border=\"1\" class=\"dataframe\">\n",
       "  <thead>\n",
       "    <tr style=\"text-align: right;\">\n",
       "      <th></th>\n",
       "      <th>1.0</th>\n",
       "      <th>2.0</th>\n",
       "      <th>3.0</th>\n",
       "      <th>4.0</th>\n",
       "      <th>5.0</th>\n",
       "      <th>6.0</th>\n",
       "      <th>7.0</th>\n",
       "    </tr>\n",
       "  </thead>\n",
       "  <tbody>\n",
       "    <tr>\n",
       "      <th>1.0</th>\n",
       "      <td>0.0</td>\n",
       "      <td>1306.0</td>\n",
       "      <td>0.0</td>\n",
       "      <td>0.0</td>\n",
       "      <td>2161.0</td>\n",
       "      <td>2661.0</td>\n",
       "      <td>0.0</td>\n",
       "    </tr>\n",
       "    <tr>\n",
       "      <th>2.0</th>\n",
       "      <td>1306.0</td>\n",
       "      <td>0.0</td>\n",
       "      <td>919.0</td>\n",
       "      <td>629.0</td>\n",
       "      <td>0.0</td>\n",
       "      <td>0.0</td>\n",
       "      <td>0.0</td>\n",
       "    </tr>\n",
       "    <tr>\n",
       "      <th>3.0</th>\n",
       "      <td>0.0</td>\n",
       "      <td>919.0</td>\n",
       "      <td>0.0</td>\n",
       "      <td>435.0</td>\n",
       "      <td>1225.0</td>\n",
       "      <td>0.0</td>\n",
       "      <td>1983.0</td>\n",
       "    </tr>\n",
       "    <tr>\n",
       "      <th>4.0</th>\n",
       "      <td>0.0</td>\n",
       "      <td>629.0</td>\n",
       "      <td>435.0</td>\n",
       "      <td>0.0</td>\n",
       "      <td>0.0</td>\n",
       "      <td>0.0</td>\n",
       "      <td>0.0</td>\n",
       "    </tr>\n",
       "    <tr>\n",
       "      <th>5.0</th>\n",
       "      <td>2161.0</td>\n",
       "      <td>0.0</td>\n",
       "      <td>1225.0</td>\n",
       "      <td>0.0</td>\n",
       "      <td>0.0</td>\n",
       "      <td>1483.0</td>\n",
       "      <td>1258.0</td>\n",
       "    </tr>\n",
       "    <tr>\n",
       "      <th>6.0</th>\n",
       "      <td>2661.0</td>\n",
       "      <td>0.0</td>\n",
       "      <td>0.0</td>\n",
       "      <td>0.0</td>\n",
       "      <td>1483.0</td>\n",
       "      <td>0.0</td>\n",
       "      <td>0.0</td>\n",
       "    </tr>\n",
       "    <tr>\n",
       "      <th>7.0</th>\n",
       "      <td>0.0</td>\n",
       "      <td>0.0</td>\n",
       "      <td>1983.0</td>\n",
       "      <td>0.0</td>\n",
       "      <td>1258.0</td>\n",
       "      <td>0.0</td>\n",
       "      <td>0.0</td>\n",
       "    </tr>\n",
       "  </tbody>\n",
       "</table>\n",
       "</div>"
      ],
      "text/plain": [
       "        1.0     2.0     3.0    4.0     5.0     6.0     7.0\n",
       "1.0     0.0  1306.0     0.0    0.0  2161.0  2661.0     0.0\n",
       "2.0  1306.0     0.0   919.0  629.0     0.0     0.0     0.0\n",
       "3.0     0.0   919.0     0.0  435.0  1225.0     0.0  1983.0\n",
       "4.0     0.0   629.0   435.0    0.0     0.0     0.0     0.0\n",
       "5.0  2161.0     0.0  1225.0    0.0     0.0  1483.0  1258.0\n",
       "6.0  2661.0     0.0     0.0    0.0  1483.0     0.0     0.0\n",
       "7.0     0.0     0.0  1983.0    0.0  1258.0     0.0     0.0"
      ]
     },
     "execution_count": 12,
     "metadata": {},
     "output_type": "execute_result"
    }
   ],
   "source": [
    "# from graph to dataframe as a matrix\n",
    "nx.to_pandas_dataframe(g, weight='distance')"
   ]
  },
  {
   "cell_type": "code",
   "execution_count": 13,
   "metadata": {
    "collapsed": false
   },
   "outputs": [
    {
     "name": "stdout",
     "output_type": "stream",
     "text": [
      "list nodes:  [1.0, 2.0, 3.0, 4.0, 5.0, 6.0, 7.0] \n",
      "\n",
      "no. nodes: 7\n",
      "no. edges: 10 \n",
      "\n",
      "list edges:  [(1.0, 2.0), (1.0, 5.0), (1.0, 6.0), (2.0, 3.0), (2.0, 4.0), (3.0, 4.0), (3.0, 5.0), (3.0, 7.0), (5.0, 6.0), (5.0, 7.0)] \n",
      "\n",
      "list all edge attributes:  {(1.0, 2.0): 1306.0, (5.0, 6.0): 1483.0, (5.0, 7.0): 1258.0, (1.0, 5.0): 2161.0, (1.0, 6.0): 2661.0, (3.0, 7.0): 1983.0, (2.0, 3.0): 919.0, (3.0, 4.0): 435.0, (2.0, 4.0): 629.0, (3.0, 5.0): 1225.0}\n"
     ]
    }
   ],
   "source": [
    "# print nodes and edges\n",
    "print 'list nodes: ', g.nodes(), '\\n'\n",
    "print 'no. nodes:', len(g) #no. nodes\n",
    "print 'no. edges:', g.number_of_edges(), '\\n'\n",
    "print 'list edges: ', g.edges(), '\\n'\n",
    "print 'list all edge attributes: ', dict(((a,b,),c['distance']) for a,b,c in g.edges(data=True))"
   ]
  },
  {
   "cell_type": "markdown",
   "metadata": {},
   "source": [
    "### PLOT GRAPH\n",
    "#### NOTE TYPE OF LAYOUTS\n",
    "'circular_layout',\n",
    "'random_layout',\n",
    "'shell_layout',\n",
    "'spring_layout',\n",
    "'spectral_layout',\n",
    "'fruchterman_reingold_layout'"
   ]
  },
  {
   "cell_type": "code",
   "execution_count": 14,
   "metadata": {
    "collapsed": false
   },
   "outputs": [
    {
     "data": {
      "text/plain": [
       "{(1.0, 2.0): <matplotlib.text.Text at 0x11ae0e490>,\n",
       " (1.0, 5.0): <matplotlib.text.Text at 0x11ae32250>,\n",
       " (1.0, 6.0): <matplotlib.text.Text at 0x11ae32810>,\n",
       " (2.0, 3.0): <matplotlib.text.Text at 0x11ae3e3d0>,\n",
       " (2.0, 4.0): <matplotlib.text.Text at 0x11ae3ef50>,\n",
       " (3.0, 4.0): <matplotlib.text.Text at 0x11ae3e990>,\n",
       " (3.0, 5.0): <matplotlib.text.Text at 0x11ae4a550>,\n",
       " (3.0, 7.0): <matplotlib.text.Text at 0x11ae32dd0>,\n",
       " (5.0, 6.0): <matplotlib.text.Text at 0x11ae26690>,\n",
       " (5.0, 7.0): <matplotlib.text.Text at 0x11ae26c50>}"
      ]
     },
     "execution_count": 14,
     "metadata": {},
     "output_type": "execute_result"
    },
    {
     "data": {
      "image/png": "[encoded data removed]",
      "text/plain": [
       "<matplotlib.figure.Figure at 0x11a9f6210>"
      ]
     },
     "metadata": {},
     "output_type": "display_data"
    }
   ],
   "source": [
    "# choose layout\n",
    "pos = nx.fruchterman_reingold_layout(g)\n",
    "\n",
    "# draw network\n",
    "nx.draw(g, pos, with_labels = True, node_size=800, node_color='pink', edge_color='grey')\n",
    "\n",
    "# label edges\n",
    "edge_labels = dict([((u,v,),d['distance']) for u,v,d in g.edges(data=True)])\n",
    "nx.draw_networkx_edge_labels(graph, pos, edge_labels=edge_labels)"
   ]
  },
  {
   "cell_type": "markdown",
   "metadata": {},
   "source": [
    "### PLOT GRAPH WITH SHORTEST PATH"
   ]
  },
  {
   "cell_type": "code",
   "execution_count": 35,
   "metadata": {
    "collapsed": false
   },
   "outputs": [
    {
     "name": "stdout",
     "output_type": "stream",
     "text": [
      "[2, 3.0, 7.0]\n"
     ]
    },
    {
     "data": {
      "text/plain": [
       "<matplotlib.collections.LineCollection at 0x1202d7710>"
      ]
     },
     "execution_count": 35,
     "metadata": {},
     "output_type": "execute_result"
    },
    {
     "data": {
      "image/png": "[encoded data removed]",
      "text/plain": [
       "<matplotlib.figure.Figure at 0x1202d7c10>"
      ]
     },
     "metadata": {},
     "output_type": "display_data"
    }
   ],
   "source": [
    "s=2\n",
    "t=7\n",
    "\n",
    "print nx.shortest_path(g, source=s,target=t, weight='distance')\n",
    "\n",
    "plt.figure(figsize=(5, 5))\n",
    "# choose layout\n",
    "pos = nx.fruchterman_reingold_layout(g)\n",
    "\n",
    "# draw network\n",
    "nx.draw(g, pos, with_labels = True, node_size=800, node_color='pink', edge_color='grey')\n",
    "# nx.draw_networkx_edges(g, pos, edge_color='grey',width=0.1, alpha=0.5)\n",
    "\n",
    "# label edges\n",
    "edge_labels = dict([((u,v,),d['distance']) for u,v,d in g.edges(data=True)])\n",
    "nx.draw_networkx_edge_labels(graph, pos, edge_labels=edge_labels)\n",
    "\n",
    "\n",
    "# plot longest path\n",
    "path = nx.shortest_path(g, source=s,target=t, weight='distance')\n",
    "path_edges = zip(path,path[1:])\n",
    "# nx.draw_networkx_nodes(g,pos,nodelist=path,node_color='black', node_size=1000)\n",
    "nx.draw_networkx_edges(g,pos,edgelist=path_edges,edge_color='r',width=15)"
   ]
  },
  {
   "cell_type": "markdown",
   "metadata": {},
   "source": [
    "### SHORTEST PATHS"
   ]
  },
  {
   "cell_type": "code",
   "execution_count": 31,
   "metadata": {
    "collapsed": false,
    "scrolled": true
   },
   "outputs": [
    {
     "data": {
      "text/plain": [
       "[1, 2.0, 3.0]"
      ]
     },
     "execution_count": 31,
     "metadata": {},
     "output_type": "execute_result"
    }
   ],
   "source": [
    "# shortest path\n",
    "nx.shortest_path(graph, source=1, target=3, weight='distance')"
   ]
  },
  {
   "cell_type": "code",
   "execution_count": 32,
   "metadata": {
    "collapsed": false
   },
   "outputs": [
    {
     "name": "stdout",
     "output_type": "stream",
     "text": [
      "[1, 5.0, 7]\n"
     ]
    }
   ],
   "source": [
    "# shortest path\n",
    "paths = nx.all_shortest_paths(graph, source=1, target=7, weight='distance')\n",
    "for path in paths:\n",
    "    print path"
   ]
  },
  {
   "cell_type": "code",
   "execution_count": 33,
   "metadata": {
    "collapsed": false
   },
   "outputs": [
    {
     "name": "stdout",
     "output_type": "stream",
     "text": [
      "[1, 2.0, 3.0, 5.0, 7]\n",
      "[1, 2.0, 3.0, 7]\n",
      "[1, 2.0, 4.0, 3.0, 5.0, 7]\n",
      "[1, 2.0, 4.0, 3.0, 7]\n",
      "[1, 5.0, 3.0, 7]\n",
      "[1, 5.0, 7]\n",
      "[1, 6.0, 5.0, 3.0, 7]\n",
      "[1, 6.0, 5.0, 7]\n"
     ]
    }
   ],
   "source": [
    "# all simple paths without weight\n",
    "path = nx.all_simple_paths(graph, source=1, target=7)\n",
    "for i in path:\n",
    "    print i"
   ]
  }
 ],
 "metadata": {
  "kernelspec": {
   "display_name": "Python 2",
   "language": "python",
   "name": "python2"
  },
  "language_info": {
   "codemirror_mode": {
    "name": "ipython",
    "version": 2
   },
   "file_extension": ".py",
   "mimetype": "text/x-python",
   "name": "python",
   "nbconvert_exporter": "python",
   "pygments_lexer": "ipython2",
   "version": "2.7.12"
  }
 },
 "nbformat": 4,
 "nbformat_minor": 0
}
