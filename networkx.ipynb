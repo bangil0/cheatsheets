{
 "cells": [
  {
   "cell_type": "code",
   "execution_count": 109,
   "metadata": {
    "collapsed": false
   },
   "outputs": [],
   "source": [
    "import psycopg2\n",
    "import pandas as pd\n",
    "import networkx as nx\n",
    "import matplotlib.pyplot as plt\n",
    "import seaborn as sns\n",
    "%matplotlib inline\n",
    "\n",
    "conn = psycopg2.connect(database=\"postgres\", user=\"postgres\", password=\"***\", host=\"127.0.0.1\", port=\"5432\")"
   ]
  },
  {
   "cell_type": "code",
   "execution_count": 47,
   "metadata": {
    "collapsed": false
   },
   "outputs": [
    {
     "data": {
      "text/html": [
       "<div>\n",
       "<table border=\"1\" class=\"dataframe\">\n",
       "  <thead>\n",
       "    <tr style=\"text-align: right;\">\n",
       "      <th></th>\n",
       "      <th>fromnode</th>\n",
       "      <th>tonode</th>\n",
       "      <th>distance</th>\n",
       "    </tr>\n",
       "  </thead>\n",
       "  <tbody>\n",
       "    <tr>\n",
       "      <th>0</th>\n",
       "      <td>1</td>\n",
       "      <td>2</td>\n",
       "      <td>1306.0</td>\n",
       "    </tr>\n",
       "    <tr>\n",
       "      <th>1</th>\n",
       "      <td>1</td>\n",
       "      <td>5</td>\n",
       "      <td>2161.0</td>\n",
       "    </tr>\n",
       "    <tr>\n",
       "      <th>2</th>\n",
       "      <td>1</td>\n",
       "      <td>6</td>\n",
       "      <td>2661.0</td>\n",
       "    </tr>\n",
       "    <tr>\n",
       "      <th>3</th>\n",
       "      <td>2</td>\n",
       "      <td>3</td>\n",
       "      <td>919.0</td>\n",
       "    </tr>\n",
       "    <tr>\n",
       "      <th>4</th>\n",
       "      <td>2</td>\n",
       "      <td>4</td>\n",
       "      <td>629.0</td>\n",
       "    </tr>\n",
       "    <tr>\n",
       "      <th>5</th>\n",
       "      <td>3</td>\n",
       "      <td>4</td>\n",
       "      <td>435.0</td>\n",
       "    </tr>\n",
       "    <tr>\n",
       "      <th>6</th>\n",
       "      <td>3</td>\n",
       "      <td>5</td>\n",
       "      <td>1225.0</td>\n",
       "    </tr>\n",
       "    <tr>\n",
       "      <th>7</th>\n",
       "      <td>3</td>\n",
       "      <td>7</td>\n",
       "      <td>1983.0</td>\n",
       "    </tr>\n",
       "    <tr>\n",
       "      <th>8</th>\n",
       "      <td>5</td>\n",
       "      <td>6</td>\n",
       "      <td>1483.0</td>\n",
       "    </tr>\n",
       "    <tr>\n",
       "      <th>9</th>\n",
       "      <td>5</td>\n",
       "      <td>7</td>\n",
       "      <td>1258.0</td>\n",
       "    </tr>\n",
       "  </tbody>\n",
       "</table>\n",
       "</div>"
      ],
      "text/plain": [
       "   fromnode  tonode  distance\n",
       "0         1       2    1306.0\n",
       "1         1       5    2161.0\n",
       "2         1       6    2661.0\n",
       "3         2       3     919.0\n",
       "4         2       4     629.0\n",
       "5         3       4     435.0\n",
       "6         3       5    1225.0\n",
       "7         3       7    1983.0\n",
       "8         5       6    1483.0\n",
       "9         5       7    1258.0"
      ]
     },
     "execution_count": 47,
     "metadata": {},
     "output_type": "execute_result"
    }
   ],
   "source": [
    "query = \"SELECT * from edges\"\n",
    "df = pd.read_sql_query(query, conn)\n",
    "df"
   ]
  },
  {
   "cell_type": "code",
   "execution_count": 137,
   "metadata": {
    "collapsed": false
   },
   "outputs": [
    {
     "data": {
      "text/plain": [
       "{'distance': 1306.0}"
      ]
     },
     "execution_count": 137,
     "metadata": {},
     "output_type": "execute_result"
    }
   ],
   "source": [
    "# from dataframe to graph\n",
    "graph=nx.from_pandas_dataframe(df, 'fromnode', 'tonode', 'distance')\n",
    "graph[1][2]"
   ]
  },
  {
   "cell_type": "code",
   "execution_count": 61,
   "metadata": {
    "collapsed": false
   },
   "outputs": [
    {
     "data": {
      "text/html": [
       "<div>\n",
       "<table border=\"1\" class=\"dataframe\">\n",
       "  <thead>\n",
       "    <tr style=\"text-align: right;\">\n",
       "      <th></th>\n",
       "      <th>1.0</th>\n",
       "      <th>2.0</th>\n",
       "      <th>3.0</th>\n",
       "      <th>4.0</th>\n",
       "      <th>5.0</th>\n",
       "      <th>6.0</th>\n",
       "      <th>7.0</th>\n",
       "    </tr>\n",
       "  </thead>\n",
       "  <tbody>\n",
       "    <tr>\n",
       "      <th>1.0</th>\n",
       "      <td>0.0</td>\n",
       "      <td>1306.0</td>\n",
       "      <td>0.0</td>\n",
       "      <td>0.0</td>\n",
       "      <td>2161.0</td>\n",
       "      <td>2661.0</td>\n",
       "      <td>0.0</td>\n",
       "    </tr>\n",
       "    <tr>\n",
       "      <th>2.0</th>\n",
       "      <td>1306.0</td>\n",
       "      <td>0.0</td>\n",
       "      <td>919.0</td>\n",
       "      <td>629.0</td>\n",
       "      <td>0.0</td>\n",
       "      <td>0.0</td>\n",
       "      <td>0.0</td>\n",
       "    </tr>\n",
       "    <tr>\n",
       "      <th>3.0</th>\n",
       "      <td>0.0</td>\n",
       "      <td>919.0</td>\n",
       "      <td>0.0</td>\n",
       "      <td>435.0</td>\n",
       "      <td>1225.0</td>\n",
       "      <td>0.0</td>\n",
       "      <td>1983.0</td>\n",
       "    </tr>\n",
       "    <tr>\n",
       "      <th>4.0</th>\n",
       "      <td>0.0</td>\n",
       "      <td>629.0</td>\n",
       "      <td>435.0</td>\n",
       "      <td>0.0</td>\n",
       "      <td>0.0</td>\n",
       "      <td>0.0</td>\n",
       "      <td>0.0</td>\n",
       "    </tr>\n",
       "    <tr>\n",
       "      <th>5.0</th>\n",
       "      <td>2161.0</td>\n",
       "      <td>0.0</td>\n",
       "      <td>1225.0</td>\n",
       "      <td>0.0</td>\n",
       "      <td>0.0</td>\n",
       "      <td>1483.0</td>\n",
       "      <td>1258.0</td>\n",
       "    </tr>\n",
       "    <tr>\n",
       "      <th>6.0</th>\n",
       "      <td>2661.0</td>\n",
       "      <td>0.0</td>\n",
       "      <td>0.0</td>\n",
       "      <td>0.0</td>\n",
       "      <td>1483.0</td>\n",
       "      <td>0.0</td>\n",
       "      <td>0.0</td>\n",
       "    </tr>\n",
       "    <tr>\n",
       "      <th>7.0</th>\n",
       "      <td>0.0</td>\n",
       "      <td>0.0</td>\n",
       "      <td>1983.0</td>\n",
       "      <td>0.0</td>\n",
       "      <td>1258.0</td>\n",
       "      <td>0.0</td>\n",
       "      <td>0.0</td>\n",
       "    </tr>\n",
       "  </tbody>\n",
       "</table>\n",
       "</div>"
      ],
      "text/plain": [
       "        1.0     2.0     3.0    4.0     5.0     6.0     7.0\n",
       "1.0     0.0  1306.0     0.0    0.0  2161.0  2661.0     0.0\n",
       "2.0  1306.0     0.0   919.0  629.0     0.0     0.0     0.0\n",
       "3.0     0.0   919.0     0.0  435.0  1225.0     0.0  1983.0\n",
       "4.0     0.0   629.0   435.0    0.0     0.0     0.0     0.0\n",
       "5.0  2161.0     0.0  1225.0    0.0     0.0  1483.0  1258.0\n",
       "6.0  2661.0     0.0     0.0    0.0  1483.0     0.0     0.0\n",
       "7.0     0.0     0.0  1983.0    0.0  1258.0     0.0     0.0"
      ]
     },
     "execution_count": 61,
     "metadata": {},
     "output_type": "execute_result"
    }
   ],
   "source": [
    "# from graph to dataframe as a matrix\n",
    "nx.to_pandas_dataframe(graph, weight='distance')"
   ]
  },
  {
   "cell_type": "code",
   "execution_count": 164,
   "metadata": {
    "collapsed": false,
    "scrolled": false
   },
   "outputs": [
    {
     "name": "stdout",
     "output_type": "stream",
     "text": [
      "list nodes:  [1.0, 2.0, 3.0, 4.0, 5.0, 6.0, 7.0] \n",
      "\n",
      "no. nodes: 7\n",
      "no. edges: 10 \n",
      "\n",
      "list edges:  [(1.0, 2.0), (1.0, 5.0), (1.0, 6.0), (2.0, 3.0), (2.0, 4.0), (3.0, 4.0), (3.0, 5.0), (3.0, 7.0), (5.0, 6.0), (5.0, 7.0)] \n",
      "\n",
      "list all edge attributes:  {(1.0, 2.0): 1306.0, (5.0, 6.0): 1483.0, (5.0, 7.0): 1258.0, (1.0, 5.0): 2161.0, (1.0, 6.0): 2661.0, (3.0, 7.0): 1983.0, (2.0, 3.0): 919.0, (3.0, 4.0): 435.0, (2.0, 4.0): 629.0, (3.0, 5.0): 1225.0}\n"
     ]
    }
   ],
   "source": [
    "# print nodes and edges\n",
    "print 'list nodes: ', graph.nodes(), '\\n'\n",
    "print 'no. nodes:', len(graph) #no. nodes\n",
    "print 'no. edges:', graph.number_of_edges(), '\\n'\n",
    "print 'list edges: ', graph.edges(), '\\n'\n",
    "print 'list all edge attributes: ', dict(((a,b,),c['distance']) for a,b,c in graph.edges(data=True))\n"
   ]
  },
  {
   "cell_type": "code",
   "execution_count": 154,
   "metadata": {
    "collapsed": false
   },
   "outputs": [
    {
     "name": "stdout",
     "output_type": "stream",
     "text": [
      "{(1.0, 2.0): 1306.0, (5.0, 6.0): 1483.0, (5.0, 7.0): 1258.0, (1.0, 5.0): 2161.0, (1.0, 6.0): 2661.0, (3.0, 7.0): 1983.0, (2.0, 3.0): 919.0, (3.0, 4.0): 435.0, (2.0, 4.0): 629.0, (3.0, 5.0): 1225.0}\n"
     ]
    }
   ],
   "source": [
    "# edge_labels=dict([((u,v,),d['distance']) for u,v,d in graph.edges(data=True)])\n",
    "print edge_labels"
   ]
  },
  {
   "cell_type": "code",
   "execution_count": 69,
   "metadata": {
    "collapsed": false
   },
   "outputs": [
    {
     "data": {
      "text/plain": [
       "[1, 5.0, 7.0]"
      ]
     },
     "execution_count": 69,
     "metadata": {},
     "output_type": "execute_result"
    }
   ],
   "source": [
    "# shortest path\n",
    "nx.shortest_path(graph, source=1, target=7, weight='distance')"
   ]
  },
  {
   "cell_type": "code",
   "execution_count": 73,
   "metadata": {
    "collapsed": false
   },
   "outputs": [
    {
     "name": "stdout",
     "output_type": "stream",
     "text": [
      "[1, 5.0, 7]\n"
     ]
    }
   ],
   "source": [
    "# shortest path\n",
    "paths = nx.all_shortest_paths(graph, source=1, target=7, weight='distance')\n",
    "for path in paths:\n",
    "    print path"
   ]
  },
  {
   "cell_type": "code",
   "execution_count": 72,
   "metadata": {
    "collapsed": false
   },
   "outputs": [
    {
     "name": "stdout",
     "output_type": "stream",
     "text": [
      "[1, 2.0, 3.0, 5.0, 7]\n",
      "[1, 2.0, 3.0, 7]\n",
      "[1, 2.0, 4.0, 3.0, 5.0, 7]\n",
      "[1, 2.0, 4.0, 3.0, 7]\n",
      "[1, 5.0, 3.0, 7]\n",
      "[1, 5.0, 7]\n",
      "[1, 6.0, 5.0, 3.0, 7]\n",
      "[1, 6.0, 5.0, 7]\n"
     ]
    }
   ],
   "source": [
    "# all simple paths without weight\n",
    "path = nx.all_simple_paths(graph, source=1, target=7)\n",
    "for i in path:\n",
    "    print i"
   ]
  },
  {
   "cell_type": "code",
   "execution_count": 152,
   "metadata": {
    "collapsed": false
   },
   "outputs": [
    {
     "name": "stdout",
     "output_type": "stream",
     "text": [
      "{(1.0, 2.0): 1306.0, (5.0, 6.0): 1483.0, (5.0, 7.0): 1258.0, (1.0, 5.0): 2161.0, (1.0, 6.0): 2661.0, (3.0, 7.0): 1983.0, (2.0, 3.0): 919.0, (3.0, 4.0): 435.0, (2.0, 4.0): 629.0, (3.0, 5.0): 1225.0}\n"
     ]
    },
    {
     "data": {
      "text/plain": [
       "{(1.0, 2.0): <matplotlib.text.Text at 0x11d09efd0>,\n",
       " (1.0, 5.0): <matplotlib.text.Text at 0x11d0bfe90>,\n",
       " (1.0, 6.0): <matplotlib.text.Text at 0x11d0cc450>,\n",
       " (2.0, 3.0): <matplotlib.text.Text at 0x11d0ccfd0>,\n",
       " (2.0, 4.0): <matplotlib.text.Text at 0x11d0dab90>,\n",
       " (3.0, 4.0): <matplotlib.text.Text at 0x11d0da5d0>,\n",
       " (3.0, 5.0): <matplotlib.text.Text at 0x11d0e6190>,\n",
       " (3.0, 7.0): <matplotlib.text.Text at 0x11d0cca10>,\n",
       " (5.0, 6.0): <matplotlib.text.Text at 0x11d0bf310>,\n",
       " (5.0, 7.0): <matplotlib.text.Text at 0x11d0bf8d0>}"
      ]
     },
     "execution_count": 152,
     "metadata": {},
     "output_type": "execute_result"
    },
    {
     "data": {
      "image/png": "[encoded data removed]",
      "text/plain": [
       "<matplotlib.figure.Figure at 0x11cd7b4d0>"
      ]
     },
     "metadata": {},
     "output_type": "display_data"
    }
   ],
   "source": [
    "# choose layout\n",
    "pos = nx.spring_layout(graph)\n",
    "\n",
    "# draw network\n",
    "nx.draw(graph, pos, with_labels = True, node_size=800, node_color='pink', edge_color='grey')\n",
    "\n",
    "# label edges\n",
    "edge_labels = dict([((u,v,),d['distance']) for u,v,d in graph.edges(data=True)])\n",
    "print edge_labels\n",
    "\n",
    "nx.draw_networkx_edge_labels(graph, pos, edge_labels=edge_labels)\n"
   ]
  }
 ],
 "metadata": {
  "kernelspec": {
   "display_name": "Python 2",
   "language": "python",
   "name": "python2"
  },
  "language_info": {
   "codemirror_mode": {
    "name": "ipython",
    "version": 2
   },
   "file_extension": ".py",
   "mimetype": "text/x-python",
   "name": "python",
   "nbconvert_exporter": "python",
   "pygments_lexer": "ipython2",
   "version": "2.7.12"
  }
 },
 "nbformat": 4,
 "nbformat_minor": 0
}
